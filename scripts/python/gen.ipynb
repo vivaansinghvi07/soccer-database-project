{
 "cells": [
  {
   "cell_type": "code",
   "execution_count": 1,
   "metadata": {},
   "outputs": [],
   "source": [
    "import time\n",
    "import requests\n",
    "import csv\n",
    "from fuzzywuzzy import fuzz\n",
    "\n",
    "# loads info for API data\n",
    "url = \"https://api.football-data.org/v4/\"\n",
    "headers = {\n",
    "    \"X-Auth-Token\": \"011d6c8e7a0b4d6493fcb8ef61b20bb2\"          # api key here\n",
    "}"
   ]
  },
  {
   "attachments": {},
   "cell_type": "markdown",
   "metadata": {},
   "source": [
    "### Leagues"
   ]
  },
  {
   "cell_type": "code",
   "execution_count": 2,
   "metadata": {},
   "outputs": [],
   "source": [
    "def getInsert(league_id, league_name, year_founded, recurrence, num_teams):\n",
    "    return f\"INSERT INTO League(year_founded, league_name, league_id, num_teams, recurrence) VALUES ('{year_founded}', '{league_name}', '{league_id}', '{num_teams}', '{recurrence}');\\n\"\n",
    "\n",
    "with open(\"../populate/1_leagues.sql\", \"w\") as f:\n",
    "    f.write(getInsert(\n",
    "        league_id=\"PL\",\n",
    "        league_name=\"Premier League\",\n",
    "        year_founded=\"1992\",\n",
    "        recurrence=\"1\",\n",
    "        num_teams=\"20\"\n",
    "    ))\n",
    "    f.write(getInsert(\n",
    "        league_id=\"ELC\",\n",
    "        league_name=\"English League Championship\",\n",
    "        year_founded=\"2004\",\n",
    "        recurrence=\"1\",\n",
    "        num_teams=\"24\"\n",
    "    ))"
   ]
  },
  {
   "attachments": {},
   "cell_type": "markdown",
   "metadata": {},
   "source": [
    "## English Leagues"
   ]
  },
  {
   "attachments": {},
   "cell_type": "markdown",
   "metadata": {},
   "source": [
    "### Teams"
   ]
  },
  {
   "cell_type": "code",
   "execution_count": 3,
   "metadata": {},
   "outputs": [],
   "source": [
    "teams = {}\n",
    "id = 1000   # starter value\n",
    "competitions = {\"PL\": range(2020, 2023), \"ELC\": range(2020, 2023)}  # stores ranges of years in whcih data is available\n",
    "\n",
    "for competition in competitions:\n",
    "\n",
    "    for season in competitions[competition]:\n",
    "\n",
    "        params = {\n",
    "            \"season\": season\n",
    "        }\n",
    "\n",
    "        skip = False    # determines if the information cannot be accessed\n",
    "\n",
    "        while True:\n",
    "            try:\n",
    "                data = requests.get(f\"{url}competitions/{competition}/teams\", headers=headers, params=params).json()\n",
    "                _ = data[\"teams\"]   # checks if the data is available\n",
    "                break\n",
    "            except: \n",
    "                if data[\"errorCode\"] == 429:    # rate limited\n",
    "                    print(\"Rate limited. Sleeping for 60 seconds.\")\n",
    "                    time.sleep(60)\n",
    "                elif data[\"errorCode\"] == 403:  # no permissions\n",
    "                    print(f\"Unable to retrieve {season} data for {competition}. Skipping.\")\n",
    "                    skip = True\n",
    "                    break\n",
    "\n",
    "        if skip: continue\n",
    "\n",
    "        for team in data[\"teams\"]:  # stores information about the team\n",
    "            teams[team[\"name\"]] = {\"id\": -1, \"founding\": team[\"founded\"], \"shortname\": team[\"shortName\"]}\n",
    "\n",
    "for team in teams:\n",
    "    id += 1             # incrementally assigns id-numbers to each individual team\n",
    "    teams[team][\"id\"] = id\n",
    "\n",
    "# gets the sql query for inserting informaion about the team\n",
    "def getInsert(team_name, team_id, founded):\n",
    "    output = f\"INSERT INTO Team(team_name, team_id, year_founded, country) VALUES ('{team_name}', '{team_id}', '{founded}', 'Great Britain');\\n\"\n",
    "    return output.replace(\"'None'\", \"NULL\")\n",
    "\n",
    "with open(\"../populate/2_englishteams.sql\", \"w\") as f:  # write to file\n",
    "    for team, info in teams.items():\n",
    "        f.write(getInsert(team_name=team, team_id=info[\"id\"], founded=info[\"founding\"]))\n"
   ]
  },
  {
   "cell_type": "code",
   "execution_count": 4,
   "metadata": {},
   "outputs": [],
   "source": [
    "team_ids = {}\n",
    "for name, info in teams.items():      # for usage in the code elsewhere, such as playerteam\n",
    "    team_ids[name] = info['id']\n",
    "    team_ids[info['shortname']] = info['id']\n",
    "# print(team_ids)"
   ]
  },
  {
   "attachments": {},
   "cell_type": "markdown",
   "metadata": {},
   "source": [
    "### Players"
   ]
  },
  {
   "cell_type": "code",
   "execution_count": 5,
   "metadata": {},
   "outputs": [],
   "source": [
    "id = 1000   # starter value\n",
    "\n",
    "def getInsertPlayer(name, id, position=None):\n",
    "\n",
    "    # determines how to split the player's name\n",
    "    name = name.replace(\"'\", \"\").split()\n",
    "    middle_initial = None\n",
    "    if len(name) == 1:\n",
    "        first_name, last_name = None, name[0]   # only one name given - \"Sokratis\"\n",
    "    elif len(name) == 2:\n",
    "        first_name, last_name = name            # both names given \n",
    "    elif len(name) == 3:\n",
    "        first_name, middle_initial, last_name = name[0], name[1][0].upper(), name[2]    # Ahmed El Mohamady - three names given\n",
    "    else:   \n",
    "        first_name, last_name = name[0], name[-1]\n",
    "\n",
    "    # truncates name\n",
    "    if first_name != None and len(first_name) > 10:\n",
    "        first_name = first_name[:10]\n",
    "    if len(last_name) > 20:\n",
    "        last_name = last_name[:20]\n",
    "\n",
    "    output = f\"INSERT INTO Player(player_id, first_name, last_name, middle_initial, field_position) VALUES('{id}', '{first_name}', '{last_name}', '{middle_initial}', '{position}'); \\n\"\n",
    "    return output.replace(\"'None'\", \"NULL\")\n",
    "\n",
    "players = {}\n",
    "\n",
    "with open(\"../../data/pl-players-2020.csv\", \"r\") as f_read:\n",
    "    with open(\"../populate/3_englishplayers.sql\", \"w\") as f_write:\n",
    "        reader = csv.DictReader(f_read)\n",
    "        for player in reader:\n",
    "            id += 1     # increments id to make a new one\n",
    "            f_write.write(getInsertPlayer(\n",
    "                name=player[\"Name\"],\n",
    "                position=player[\"Position\"],\n",
    "                id=id\n",
    "            ))\n",
    "            players[player[\"Name\"]] = id"
   ]
  },
  {
   "attachments": {},
   "cell_type": "markdown",
   "metadata": {},
   "source": [
    "### PlayerTeam"
   ]
  },
  {
   "cell_type": "code",
   "execution_count": 6,
   "metadata": {},
   "outputs": [],
   "source": [
    "year = 2020\n",
    "\n",
    "# sql insert statement for player-tean relations\n",
    "def getInsertPlayerTeam(id, player, team, earnings=None, date=None):\n",
    "    output = f\"INSERT INTO PlayerTeam(playerteam_id, player_id, team_id, earnings, date_joined) VALUES('{id}', '{player}', '{team}', '{earnings}' ,'{date}');\\n\"\n",
    "    return output.replace(\"'None'\", \"NULL\")\n",
    "\n",
    "def getTeamID(teams, team):\n",
    "    for comp_team in teams:\n",
    "        # check if the team name is essentailly similar\n",
    "        if fuzz.ratio(comp_team.replace(\"FC\", \"\").strip(), team.replace(\"-\", \" \").strip()) > 90:\n",
    "            return teams[comp_team]     # returns id if possible\n",
    "    return None\n",
    "\n",
    "id = 1000\n",
    "with open(f\"../../data/pl-players-{year}.csv\", \"r\") as f_read:\n",
    "    with open(\"../populate/4_englishplayerteams.sql\", \"w\") as f_write:\n",
    "        reader = csv.DictReader(f_read)\n",
    "        for player in reader:\n",
    "            id += 1\n",
    "            f_write.write(getInsertPlayerTeam(\n",
    "                player=players[player[\"Name\"]],\n",
    "                team=getTeamID(team_ids, player[\"Club\"]),\n",
    "                id=id,\n",
    "                date=f\"{year}-08-01\"    # no date given - assumed it was sometime in august 2020 because dataset was for 2020 \n",
    "            ))"
   ]
  },
  {
   "attachments": {},
   "cell_type": "markdown",
   "metadata": {},
   "source": [
    "### PlayerStat"
   ]
  },
  {
   "cell_type": "code",
   "execution_count": 7,
   "metadata": {},
   "outputs": [
    {
     "ename": "FileNotFoundError",
     "evalue": "[Errno 2] No such file or directory: 'TODO'",
     "output_type": "error",
     "traceback": [
      "\u001b[0;31m---------------------------------------------------------------------------\u001b[0m",
      "\u001b[0;31mFileNotFoundError\u001b[0m                         Traceback (most recent call last)",
      "Cell \u001b[0;32mIn[7], line 7\u001b[0m\n\u001b[1;32m      4\u001b[0m     \u001b[39mreturn\u001b[39;00m output\u001b[39m.\u001b[39mreplace(\u001b[39m\"\u001b[39m\u001b[39m'\u001b[39m\u001b[39mNone\u001b[39m\u001b[39m'\u001b[39m\u001b[39m\"\u001b[39m, \u001b[39m\"\u001b[39m\u001b[39mNULL\u001b[39m\u001b[39m\"\u001b[39m)\n\u001b[1;32m      6\u001b[0m \u001b[39mid\u001b[39m \u001b[39m=\u001b[39m \u001b[39m1000\u001b[39m\n\u001b[0;32m----> 7\u001b[0m \u001b[39mwith\u001b[39;00m \u001b[39mopen\u001b[39;49m(\u001b[39m\"\"\"\u001b[39;49m\u001b[39mTODO\u001b[39;49m\u001b[39m\"\"\"\u001b[39;49m, \u001b[39m\"\u001b[39;49m\u001b[39mr\u001b[39;49m\u001b[39m\"\u001b[39;49m) \u001b[39mas\u001b[39;00m f_read:\n\u001b[1;32m      8\u001b[0m     \u001b[39mwith\u001b[39;00m \u001b[39mopen\u001b[39m(\u001b[39m\"\u001b[39m\u001b[39m../populate/5_englishplayerstats.sql\u001b[39m\u001b[39m\"\u001b[39m, \u001b[39m\"\u001b[39m\u001b[39mw\u001b[39m\u001b[39m\"\u001b[39m) \u001b[39mas\u001b[39;00m f_write:\n\u001b[1;32m      9\u001b[0m         reader \u001b[39m=\u001b[39m csv\u001b[39m.\u001b[39mDictReader(f_read)\n",
      "File \u001b[0;32m~/Documents/GitHub/soccer-database-project/.venv/lib/python3.11/site-packages/IPython/core/interactiveshell.py:284\u001b[0m, in \u001b[0;36m_modified_open\u001b[0;34m(file, *args, **kwargs)\u001b[0m\n\u001b[1;32m    277\u001b[0m \u001b[39mif\u001b[39;00m file \u001b[39min\u001b[39;00m {\u001b[39m0\u001b[39m, \u001b[39m1\u001b[39m, \u001b[39m2\u001b[39m}:\n\u001b[1;32m    278\u001b[0m     \u001b[39mraise\u001b[39;00m \u001b[39mValueError\u001b[39;00m(\n\u001b[1;32m    279\u001b[0m         \u001b[39mf\u001b[39m\u001b[39m\"\u001b[39m\u001b[39mIPython won\u001b[39m\u001b[39m'\u001b[39m\u001b[39mt let you open fd=\u001b[39m\u001b[39m{\u001b[39;00mfile\u001b[39m}\u001b[39;00m\u001b[39m by default \u001b[39m\u001b[39m\"\u001b[39m\n\u001b[1;32m    280\u001b[0m         \u001b[39m\"\u001b[39m\u001b[39mas it is likely to crash IPython. If you know what you are doing, \u001b[39m\u001b[39m\"\u001b[39m\n\u001b[1;32m    281\u001b[0m         \u001b[39m\"\u001b[39m\u001b[39myou can use builtins\u001b[39m\u001b[39m'\u001b[39m\u001b[39m open.\u001b[39m\u001b[39m\"\u001b[39m\n\u001b[1;32m    282\u001b[0m     )\n\u001b[0;32m--> 284\u001b[0m \u001b[39mreturn\u001b[39;00m io_open(file, \u001b[39m*\u001b[39;49margs, \u001b[39m*\u001b[39;49m\u001b[39m*\u001b[39;49mkwargs)\n",
      "\u001b[0;31mFileNotFoundError\u001b[0m: [Errno 2] No such file or directory: 'TODO'"
     ]
    }
   ],
   "source": [
    "def getInsertPlayerStat(id, games, goals, assists, player, hat_tricks=None):\n",
    "    output = f\"\"\"INSERT INTO PlayerStat(stat_id, player_id, games_played, goals_scored, hat_tricks, assists) \n",
    "                 VALUES('{id}', '{player}', '{games}', '{goals}', '{hat_tricks}', '{assists}'); \\n\"\"\"\n",
    "    return output.replace(\"'None'\", \"NULL\")\n",
    "\n",
    "id = 1000\n",
    "with open(\"\"\"TODO\"\"\", \"r\") as f_read:\n",
    "    with open(\"../populate/5_englishplayerstats.sql\", \"w\") as f_write:\n",
    "        reader = csv.DictReader(f_read)\n",
    "        for player in reader:\n",
    "            id += 1\n",
    "            f_write.write(getInsertPlayerStat(\n",
    "                id=id,\n",
    "                player=players[player[\"Name\"]],\n",
    "                goals=player[\"Goals\"],\n",
    "                assists=player[\"Assists\"],\n",
    "                gamse=player[\"\"]\n",
    "            ))"
   ]
  }
 ],
 "metadata": {
  "kernelspec": {
   "display_name": ".venv",
   "language": "python",
   "name": "python3"
  },
  "language_info": {
   "codemirror_mode": {
    "name": "ipython",
    "version": 3
   },
   "file_extension": ".py",
   "mimetype": "text/x-python",
   "name": "python",
   "nbconvert_exporter": "python",
   "pygments_lexer": "ipython3",
   "version": "3.11.2"
  },
  "orig_nbformat": 4,
  "vscode": {
   "interpreter": {
    "hash": "542ffb3386a43dda93ba2a993ea2dd9be6aa5a4a0384428ac11898c5a8874fd4"
   }
  }
 },
 "nbformat": 4,
 "nbformat_minor": 2
}
