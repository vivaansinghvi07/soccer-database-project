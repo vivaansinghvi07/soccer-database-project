{
 "cells": [
  {
   "cell_type": "code",
   "execution_count": 12,
   "metadata": {},
   "outputs": [],
   "source": [
    "import database\n",
    "import os\n",
    "import importlib\n",
    "\n",
    "_ = importlib.reload(database)"
   ]
  },
  {
   "attachments": {},
   "cell_type": "markdown",
   "metadata": {},
   "source": [
    "Resets the database (runs drop all and then create all)"
   ]
  },
  {
   "cell_type": "code",
   "execution_count": 13,
   "metadata": {},
   "outputs": [],
   "source": [
    "db = database.Database()\n",
    "path = \"../templates\"\n",
    "with open(f\"{path}/drop.sql\", \"r\") as f:      # drops all tables\n",
    "    db.query(f.read())\n",
    "with open(f\"{path}/create.sql\", \"r\") as f:    # recreates all tables\n",
    "    db.query(f.read())\n",
    "db.end()"
   ]
  },
  {
   "attachments": {},
   "cell_type": "markdown",
   "metadata": {},
   "source": [
    "Runs every populate script there is"
   ]
  },
  {
   "cell_type": "code",
   "execution_count": 14,
   "metadata": {},
   "outputs": [],
   "source": [
    "db = database.Database()\n",
    "path = \"../populate\"\n",
    "\n",
    "# gets every file (in order) in the diectory of generating functions\n",
    "for filename in sorted(os.listdir(path)):\n",
    "    with open(f\"{path}/{filename}\", \"r\") as f:\n",
    "        db.query(f.read())\n",
    "\n",
    "db.end()"
   ]
  }
 ],
 "metadata": {
  "kernelspec": {
   "display_name": ".venv",
   "language": "python",
   "name": "python3"
  },
  "language_info": {
   "codemirror_mode": {
    "name": "ipython",
    "version": 3
   },
   "file_extension": ".py",
   "mimetype": "text/x-python",
   "name": "python",
   "nbconvert_exporter": "python",
   "pygments_lexer": "ipython3",
   "version": "3.11.2"
  },
  "orig_nbformat": 4,
  "vscode": {
   "interpreter": {
    "hash": "542ffb3386a43dda93ba2a993ea2dd9be6aa5a4a0384428ac11898c5a8874fd4"
   }
  }
 },
 "nbformat": 4,
 "nbformat_minor": 2
}
